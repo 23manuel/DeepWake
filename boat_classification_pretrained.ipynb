{
  "cells": [
    {
      "cell_type": "markdown",
      "metadata": {
        "id": "GSm7lbTg6b7j"
      },
      "source": [
        "It's week 2 on the 3MTT Deep Tech Specialization Course and I am going to be building a few models for an assignment. I will be building two, one from scratch and one from an already pre-trained model. The goal is to checkmate my current knowledge on model selection and evaluation, and also to get more comfortable working on model buildings with image dataset.\n",
        "I will be using a dataset on boat images.\n",
        "The task is to build deep learning models with Convolutional Neural Networks (CNNs) to classify images into classification (exmaples: gondola, motorboat, ferry).\n",
        "I will be focusing on applying supervised learning to solve image classification problem."
      ]
    },
    {
      "cell_type": "code",
      "execution_count": 3,
      "metadata": {
        "colab": {
          "base_uri": "https://localhost:8080/"
        },
        "id": "RgKtkzEu6Gtg",
        "outputId": "0b275d70-10d2-446d-fffa-b0de8ff996d0"
      },
      "outputs": [
        {
          "output_type": "stream",
          "name": "stdout",
          "text": [
            "Succesfully Completed Imports\n"
          ]
        }
      ],
      "source": [
        "import tensorflow as tf\n",
        "from tensorflow import keras\n",
        "from tensorflow.keras import layers\n",
        "from tensorflow.keras.models import Sequential\n",
        "import matplotlib.pyplot as plt\n",
        "\n",
        "print(\"Succesfully Completed Imports\")"
      ]
    },
    {
      "cell_type": "code",
      "execution_count": 4,
      "metadata": {
        "id": "cGxipNU3_FRu"
      },
      "outputs": [],
      "source": [
        "batch_size = 20\n",
        "img_height = 180\n",
        "img_width = 180\n",
        "epochs = 20"
      ]
    },
    {
      "cell_type": "code",
      "execution_count": 5,
      "metadata": {
        "colab": {
          "base_uri": "https://localhost:8080/"
        },
        "id": "eU3GUObJCM5w",
        "outputId": "c36f08b2-02d6-42a1-ad18-d5f4e940a5a3"
      },
      "outputs": [
        {
          "output_type": "stream",
          "name": "stdout",
          "text": [
            "Drive already mounted at /content/drive; to attempt to forcibly remount, call drive.mount(\"/content/drive\", force_remount=True).\n"
          ]
        }
      ],
      "source": [
        "# Next I'm importing my dataset\n",
        "\n",
        "from google.colab import drive\n",
        "drive.mount('/content/drive')"
      ]
    },
    {
      "cell_type": "code",
      "execution_count": 6,
      "metadata": {
        "colab": {
          "base_uri": "https://localhost:8080/"
        },
        "id": "K_Sdj1AADI6X",
        "outputId": "6d947cd9-7712-44f9-c843-ad5298827cc9"
      },
      "outputs": [
        {
          "output_type": "stream",
          "name": "stdout",
          "text": [
            "Contents of boat data(test)) ['DBinfo.txt', 'VigilidelFuoco', 'VaporettoACTV', 'Water', 'Topa', 'Raccoltarifiuti', 'Sanpierota', 'Sandoloaremi', 'Mototopo', 'Patanella', 'Polizia', 'MotoscafoACTV', 'Motopontonerettangolare', 'Lanciamaggioredi10mMarrone', 'Lanciamaggioredi10mBianca', 'Motobarca', 'Lanciafino10mMarrone', 'Lanciafino10mBianca', 'Gondola', 'Lanciafino10m', 'Caorlina', 'Barchino', 'Alilaguna', 'Cacciapesca', 'Ambulanza']\n"
          ]
        }
      ],
      "source": [
        "import os\n",
        "\n",
        "data_dir = '/content/drive/MyDrive/boat_data/test'\n",
        "\n",
        "print(\"Contents of boat data(test))\", os.listdir(data_dir))\n",
        "# print(\"Contents of test folder:\", os.listdir(os.path.join(data_dir, 'test'))[:5])"
      ]
    },
    {
      "cell_type": "code",
      "execution_count": 7,
      "metadata": {
        "colab": {
          "base_uri": "https://localhost:8080/"
        },
        "id": "vLvekbhuEA0W",
        "outputId": "36295dc3-7c4f-4ef6-f26d-493cb3fa6a58"
      },
      "outputs": [
        {
          "output_type": "stream",
          "name": "stdout",
          "text": [
            "Found 4774 files belonging to 24 classes.\n",
            "Using 3820 files for training.\n"
          ]
        }
      ],
      "source": [
        "# Next I will load dataset to train and validate set\n",
        "\n",
        "# train_dir =os.path.join(data_dir, 'train')\n",
        "# test_dir = os.path.join(data_dir, 'test')\n",
        "\n",
        "train_ds = tf.keras.utils.image_dataset_from_directory(\n",
        "    data_dir,\n",
        "    validation_split = 0.2,\n",
        "    subset = 'training',\n",
        "    seed = 123,\n",
        "    image_size = (img_height, img_width),\n",
        "    batch_size = batch_size\n",
        ")"
      ]
    },
    {
      "cell_type": "code",
      "execution_count": 8,
      "metadata": {
        "colab": {
          "base_uri": "https://localhost:8080/"
        },
        "id": "J-bNhSEHFHMw",
        "outputId": "db8f59d6-6fc5-488e-bf02-2e4240563c5b"
      },
      "outputs": [
        {
          "output_type": "stream",
          "name": "stdout",
          "text": [
            "Found 4774 files belonging to 24 classes.\n",
            "Using 954 files for validation.\n"
          ]
        }
      ],
      "source": [
        "# I'm going to do the same code as above, only difference is I will be changing the training to validation and the train_ds to val_ds\n",
        "\n",
        "val_ds = tf.keras.utils.image_dataset_from_directory(\n",
        "    data_dir,\n",
        "    validation_split = 0.2,\n",
        "    subset = 'validation',\n",
        "    seed = 123,\n",
        "    image_size = (img_height, img_width),\n",
        "    batch_size = batch_size\n",
        ")"
      ]
    },
    {
      "cell_type": "code",
      "execution_count": 9,
      "metadata": {
        "colab": {
          "base_uri": "https://localhost:8080/"
        },
        "id": "74piupyso73C",
        "outputId": "9f8094ad-7108-456c-f412-049dc57a3e3f"
      },
      "outputs": [
        {
          "output_type": "stream",
          "name": "stdout",
          "text": [
            "Number of classes: 24\n",
            "Detected classes: ['Alilaguna', 'Ambulanza', 'Barchino', 'Cacciapesca', 'Caorlina', 'Gondola', 'Lanciafino10m', 'Lanciafino10mBianca', 'Lanciafino10mMarrone', 'Lanciamaggioredi10mBianca', 'Lanciamaggioredi10mMarrone', 'Motobarca', 'Motopontonerettangolare', 'MotoscafoACTV', 'Mototopo', 'Patanella', 'Polizia', 'Raccoltarifiuti', 'Sandoloaremi', 'Sanpierota', 'Topa', 'VaporettoACTV', 'VigilidelFuoco', 'Water']\n"
          ]
        }
      ],
      "source": [
        "class_names = train_ds.class_names\n",
        "num_classes = len(class_names)\n",
        "print(\"Number of classes:\", num_classes)\n",
        "print(\"Detected classes:\", class_names)"
      ]
    },
    {
      "cell_type": "code",
      "execution_count": 10,
      "metadata": {
        "colab": {
          "base_uri": "https://localhost:8080/"
        },
        "id": "1T0p2PFcFfhz",
        "outputId": "fe1f98b0-c138-4b4a-9ee5-8033a27a40d1"
      },
      "outputs": [
        {
          "output_type": "execute_result",
          "data": {
            "text/plain": [
              "['Alilaguna',\n",
              " 'Ambulanza',\n",
              " 'Barchino',\n",
              " 'Cacciapesca',\n",
              " 'Caorlina',\n",
              " 'Gondola',\n",
              " 'Lanciafino10m',\n",
              " 'Lanciafino10mBianca',\n",
              " 'Lanciafino10mMarrone',\n",
              " 'Lanciamaggioredi10mBianca',\n",
              " 'Lanciamaggioredi10mMarrone',\n",
              " 'Motobarca',\n",
              " 'Motopontonerettangolare',\n",
              " 'MotoscafoACTV',\n",
              " 'Mototopo',\n",
              " 'Patanella',\n",
              " 'Polizia',\n",
              " 'Raccoltarifiuti',\n",
              " 'Sandoloaremi',\n",
              " 'Sanpierota',\n",
              " 'Topa',\n",
              " 'VaporettoACTV',\n",
              " 'VigilidelFuoco',\n",
              " 'Water']"
            ]
          },
          "metadata": {},
          "execution_count": 10
        }
      ],
      "source": [
        "# Next I'll confirm the variables I just created are holding the right classes\n",
        "\n",
        "train_ds.class_names"
      ]
    },
    {
      "cell_type": "code",
      "execution_count": 11,
      "metadata": {
        "colab": {
          "base_uri": "https://localhost:8080/"
        },
        "id": "OlwZjTToGWNq",
        "outputId": "5b18f733-d9d7-409a-82a8-55ad5be66ab6"
      },
      "outputs": [
        {
          "output_type": "execute_result",
          "data": {
            "text/plain": [
              "['Alilaguna',\n",
              " 'Ambulanza',\n",
              " 'Barchino',\n",
              " 'Cacciapesca',\n",
              " 'Caorlina',\n",
              " 'Gondola',\n",
              " 'Lanciafino10m',\n",
              " 'Lanciafino10mBianca',\n",
              " 'Lanciafino10mMarrone',\n",
              " 'Lanciamaggioredi10mBianca',\n",
              " 'Lanciamaggioredi10mMarrone',\n",
              " 'Motobarca',\n",
              " 'Motopontonerettangolare',\n",
              " 'MotoscafoACTV',\n",
              " 'Mototopo',\n",
              " 'Patanella',\n",
              " 'Polizia',\n",
              " 'Raccoltarifiuti',\n",
              " 'Sandoloaremi',\n",
              " 'Sanpierota',\n",
              " 'Topa',\n",
              " 'VaporettoACTV',\n",
              " 'VigilidelFuoco',\n",
              " 'Water']"
            ]
          },
          "metadata": {},
          "execution_count": 11
        }
      ],
      "source": [
        "val_ds.class_names"
      ]
    },
    {
      "cell_type": "code",
      "execution_count": 12,
      "metadata": {
        "id": "FxirbDGAd0Af"
      },
      "outputs": [],
      "source": [
        "# Optimizing my models performance\n",
        "\n",
        "AUTOTUNE = tf.data.AUTOTUNE\n",
        "\n",
        "train_ds = train_ds.cache().shuffle(1000).prefetch(buffer_size=AUTOTUNE)\n",
        "val_ds = val_ds.cache().prefetch(buffer_size=AUTOTUNE)"
      ]
    },
    {
      "cell_type": "code",
      "execution_count": 13,
      "metadata": {
        "colab": {
          "base_uri": "https://localhost:8080/"
        },
        "id": "nDUo7fN0Gcui",
        "outputId": "b7fbf634-06a4-420a-e91c-e6d67639d7b0"
      },
      "outputs": [
        {
          "output_type": "stream",
          "name": "stderr",
          "text": [
            "/usr/local/lib/python3.12/dist-packages/keras/src/layers/preprocessing/tf_data_layer.py:19: UserWarning: Do not pass an `input_shape`/`input_dim` argument to a layer. When using Sequential models, prefer using an `Input(shape)` object as the first layer in the model instead.\n",
            "  super().__init__(**kwargs)\n"
          ]
        }
      ],
      "source": [
        "# Next, building my CNN Model from scratch\n",
        "\n",
        "from tensorflow import keras\n",
        "from tensorflow.keras import layers\n",
        "from tensorflow.keras.models import Sequential\n",
        "\n",
        "model = Sequential(\n",
        "    [\n",
        "    layers.Rescaling(1./255, input_shape =\n",
        "                   (img_height, img_width, 3)),\n",
        "\n",
        "    layers.Conv2D(32, (3,3), padding = 'same', activation = 'relu'),\n",
        "    layers.MaxPooling2D(),\n",
        "\n",
        "    layers.Conv2D(64, (3,3), padding = 'same', activation = 'relu'),\n",
        "    layers.MaxPooling2D(),\n",
        "\n",
        "    layers.Conv2D(128, (3,3), padding = 'same', activation = 'relu'),\n",
        "    layers.MaxPooling2D(),\n",
        "\n",
        "    layers.Flatten(),\n",
        "    layers.Dense(128, activation = 'relu'),\n",
        "    layers.Dropout(0.5),\n",
        "    layers.Dense(num_classes, activation = 'softmax')\n",
        "    ]\n",
        ")"
      ]
    },
    {
      "cell_type": "code",
      "execution_count": 14,
      "metadata": {
        "id": "qZt06rgRe-EG"
      },
      "outputs": [],
      "source": [
        "# Next I will compile my model\n",
        "\n",
        "model.compile(optimizer = 'adam',\n",
        "              loss = tf.keras.losses.SparseCategoricalCrossentropy(from_logits=False),\n",
        "              metrics = ['accuracy'])"
      ]
    },
    {
      "cell_type": "code",
      "execution_count": 15,
      "metadata": {
        "colab": {
          "base_uri": "https://localhost:8080/"
        },
        "id": "lV4BTa38gMQu",
        "outputId": "15843cca-895d-49b5-a951-6a1f442ff510"
      },
      "outputs": [
        {
          "output_type": "stream",
          "name": "stdout",
          "text": [
            "Epoch 1/20\n",
            "\u001b[1m191/191\u001b[0m \u001b[32m━━━━━━━━━━━━━━━━━━━━\u001b[0m\u001b[37m\u001b[0m \u001b[1m374s\u001b[0m 2s/step - accuracy: 0.3956 - loss: 2.2545 - val_accuracy: 0.6268 - val_loss: 1.3037\n",
            "Epoch 2/20\n",
            "\u001b[1m191/191\u001b[0m \u001b[32m━━━━━━━━━━━━━━━━━━━━\u001b[0m\u001b[37m\u001b[0m \u001b[1m319s\u001b[0m 2s/step - accuracy: 0.6474 - loss: 1.3169 - val_accuracy: 0.7453 - val_loss: 0.9135\n",
            "Epoch 3/20\n",
            "\u001b[1m191/191\u001b[0m \u001b[32m━━━━━━━━━━━━━━━━━━━━\u001b[0m\u001b[37m\u001b[0m \u001b[1m316s\u001b[0m 2s/step - accuracy: 0.7149 - loss: 0.9955 - val_accuracy: 0.7589 - val_loss: 0.8754\n",
            "Epoch 4/20\n",
            "\u001b[1m191/191\u001b[0m \u001b[32m━━━━━━━━━━━━━━━━━━━━\u001b[0m\u001b[37m\u001b[0m \u001b[1m325s\u001b[0m 2s/step - accuracy: 0.7478 - loss: 0.8945 - val_accuracy: 0.7736 - val_loss: 0.7931\n",
            "Epoch 5/20\n",
            "\u001b[1m191/191\u001b[0m \u001b[32m━━━━━━━━━━━━━━━━━━━━\u001b[0m\u001b[37m\u001b[0m \u001b[1m313s\u001b[0m 2s/step - accuracy: 0.7916 - loss: 0.7062 - val_accuracy: 0.7998 - val_loss: 0.7462\n",
            "Epoch 6/20\n",
            "\u001b[1m191/191\u001b[0m \u001b[32m━━━━━━━━━━━━━━━━━━━━\u001b[0m\u001b[37m\u001b[0m \u001b[1m325s\u001b[0m 2s/step - accuracy: 0.8261 - loss: 0.5813 - val_accuracy: 0.8019 - val_loss: 0.7343\n",
            "Epoch 7/20\n",
            "\u001b[1m191/191\u001b[0m \u001b[32m━━━━━━━━━━━━━━━━━━━━\u001b[0m\u001b[37m\u001b[0m \u001b[1m337s\u001b[0m 2s/step - accuracy: 0.8431 - loss: 0.4891 - val_accuracy: 0.8040 - val_loss: 0.7196\n",
            "Epoch 8/20\n",
            "\u001b[1m191/191\u001b[0m \u001b[32m━━━━━━━━━━━━━━━━━━━━\u001b[0m\u001b[37m\u001b[0m \u001b[1m357s\u001b[0m 2s/step - accuracy: 0.8692 - loss: 0.3862 - val_accuracy: 0.8050 - val_loss: 0.7359\n",
            "Epoch 9/20\n",
            "\u001b[1m191/191\u001b[0m \u001b[32m━━━━━━━━━━━━━━━━━━━━\u001b[0m\u001b[37m\u001b[0m \u001b[1m322s\u001b[0m 2s/step - accuracy: 0.8963 - loss: 0.3466 - val_accuracy: 0.8092 - val_loss: 0.7917\n",
            "Epoch 10/20\n",
            "\u001b[1m191/191\u001b[0m \u001b[32m━━━━━━━━━━━━━━━━━━━━\u001b[0m\u001b[37m\u001b[0m \u001b[1m316s\u001b[0m 2s/step - accuracy: 0.8979 - loss: 0.3168 - val_accuracy: 0.7987 - val_loss: 0.8300\n",
            "Epoch 11/20\n",
            "\u001b[1m191/191\u001b[0m \u001b[32m━━━━━━━━━━━━━━━━━━━━\u001b[0m\u001b[37m\u001b[0m \u001b[1m321s\u001b[0m 2s/step - accuracy: 0.9040 - loss: 0.2996 - val_accuracy: 0.8113 - val_loss: 0.7962\n",
            "Epoch 12/20\n",
            "\u001b[1m191/191\u001b[0m \u001b[32m━━━━━━━━━━━━━━━━━━━━\u001b[0m\u001b[37m\u001b[0m \u001b[1m318s\u001b[0m 2s/step - accuracy: 0.9253 - loss: 0.2191 - val_accuracy: 0.8071 - val_loss: 1.0698\n",
            "Epoch 13/20\n",
            "\u001b[1m191/191\u001b[0m \u001b[32m━━━━━━━━━━━━━━━━━━━━\u001b[0m\u001b[37m\u001b[0m \u001b[1m341s\u001b[0m 2s/step - accuracy: 0.9329 - loss: 0.2027 - val_accuracy: 0.8176 - val_loss: 0.9371\n",
            "Epoch 14/20\n",
            "\u001b[1m191/191\u001b[0m \u001b[32m━━━━━━━━━━━━━━━━━━━━\u001b[0m\u001b[37m\u001b[0m \u001b[1m316s\u001b[0m 2s/step - accuracy: 0.9395 - loss: 0.1744 - val_accuracy: 0.8008 - val_loss: 1.0614\n",
            "Epoch 15/20\n",
            "\u001b[1m191/191\u001b[0m \u001b[32m━━━━━━━━━━━━━━━━━━━━\u001b[0m\u001b[37m\u001b[0m \u001b[1m321s\u001b[0m 2s/step - accuracy: 0.9410 - loss: 0.1781 - val_accuracy: 0.8187 - val_loss: 0.9406\n",
            "Epoch 16/20\n",
            "\u001b[1m191/191\u001b[0m \u001b[32m━━━━━━━━━━━━━━━━━━━━\u001b[0m\u001b[37m\u001b[0m \u001b[1m315s\u001b[0m 2s/step - accuracy: 0.9477 - loss: 0.1662 - val_accuracy: 0.8092 - val_loss: 1.1040\n",
            "Epoch 17/20\n",
            "\u001b[1m191/191\u001b[0m \u001b[32m━━━━━━━━━━━━━━━━━━━━\u001b[0m\u001b[37m\u001b[0m \u001b[1m341s\u001b[0m 2s/step - accuracy: 0.9520 - loss: 0.1533 - val_accuracy: 0.8229 - val_loss: 0.9574\n",
            "Epoch 18/20\n",
            "\u001b[1m191/191\u001b[0m \u001b[32m━━━━━━━━━━━━━━━━━━━━\u001b[0m\u001b[37m\u001b[0m \u001b[1m314s\u001b[0m 2s/step - accuracy: 0.9500 - loss: 0.1493 - val_accuracy: 0.8291 - val_loss: 1.1039\n",
            "Epoch 19/20\n",
            "\u001b[1m191/191\u001b[0m \u001b[32m━━━━━━━━━━━━━━━━━━━━\u001b[0m\u001b[37m\u001b[0m \u001b[1m319s\u001b[0m 2s/step - accuracy: 0.9558 - loss: 0.1379 - val_accuracy: 0.8134 - val_loss: 1.0948\n",
            "Epoch 20/20\n",
            "\u001b[1m191/191\u001b[0m \u001b[32m━━━━━━━━━━━━━━━━━━━━\u001b[0m\u001b[37m\u001b[0m \u001b[1m319s\u001b[0m 2s/step - accuracy: 0.9530 - loss: 0.1358 - val_accuracy: 0.8092 - val_loss: 1.1334\n"
          ]
        }
      ],
      "source": [
        "# Next i will be training my model\n",
        "\n",
        "history = model.fit(\n",
        "    train_ds,\n",
        "    validation_data = val_ds,\n",
        "    epochs = epochs\n",
        ")"
      ]
    },
    {
      "cell_type": "markdown",
      "metadata": {
        "id": "aXWe3gI7Ao1j"
      },
      "source": [
        "The model learned fast but started to flop by memorizing the training data like a parrot. It was smart, but not wise. By adding data augmentation, batch normalization, and dropout early, it can learn to think, not just recall. Early stopping helps it stop when it should, and L2 regularization keeps it humble. This way, the model can be fair, steady, and ready for real-world data, not just classroom examples.\n",
        "\n",
        "At epochs 9, we see the model at its best. I'll have to rework this model, include early stoppings, also make minor adjustments. I will be adding augmentation, batch norm, and dropout early to teache it to think, not memorize.\n",
        "\n",
        "I'm going to visualize my findings to give a clearer picture and then proceed to testing this dataset on a pre-trained model to compare how both models perform."
      ]
    },
    {
      "cell_type": "code",
      "execution_count": 16,
      "metadata": {
        "id": "Yw7RHg17Ago2",
        "colab": {
          "base_uri": "https://localhost:8080/",
          "height": 699
        },
        "outputId": "25f1828b-3128-4d64-873c-eca580862a03"
      },
      "outputs": [
        {
          "output_type": "display_data",
          "data": {
            "text/plain": [
              "<Figure size 800x800 with 2 Axes>"
            ],
            "image/png": "[encoded data removed]"
          },
          "metadata": {}
        }
      ],
      "source": [
        "# Plotting the results\n",
        "\n",
        "import matplotlib.pyplot as plt\n",
        "\n",
        "acc = history.history['accuracy']\n",
        "val_acc = history.history['val_accuracy']\n",
        "\n",
        "loss = history.history['loss']\n",
        "val_loss = history.history['val_loss']\n",
        "\n",
        "# epochs_range = range(epochs)\n",
        "\n",
        "plt.figure(figsize=(8, 8))\n",
        "plt.subplot(1, 2, 1)\n",
        "plt.plot(acc, label='Training Accuracy')\n",
        "plt.plot(val_acc, label='Validation Accuracy')\n",
        "plt.legend()\n",
        "plt.title('Training and Validation Accuracy')\n",
        "\n",
        "plt.subplot(1, 2, 2)\n",
        "plt.plot(loss, label = 'Training Loss')\n",
        "plt.plot(val_loss, label = 'Validation Loss')\n",
        "plt.legend()\n",
        "plt.title('Training and Validation Loss')\n",
        "\n",
        "plt.show()"
      ]
    },
    {
      "cell_type": "markdown",
      "metadata": {
        "id": "Vs-NPhveENGQ"
      },
      "source": [
        "The chart above shows what we just concluded above. This is a case of overfitting.\n",
        "\n",
        "\n",
        "\n",
        "I'll be building a new model using an already pre-trained model, and then feeding it our data to see how it performs. This is a test project."
      ]
    },
    {
      "cell_type": "code",
      "execution_count": 27,
      "metadata": {
        "id": "vmqh2-LKD3wa",
        "colab": {
          "base_uri": "https://localhost:8080/"
        },
        "outputId": "d08ccecf-1007-4945-89b5-200688d14ee8"
      },
      "outputs": [
        {
          "output_type": "stream",
          "name": "stdout",
          "text": [
            "Model saved successfully!\n"
          ]
        }
      ],
      "source": [
        "model.save('my_model.keras')\n",
        "print(\"Model saved successfully!\")"
      ]
    },
    {
      "cell_type": "code",
      "execution_count": 18,
      "metadata": {
        "id": "BpVaATMV8Kuk",
        "colab": {
          "base_uri": "https://localhost:8080/"
        },
        "outputId": "bce0680d-73b2-43c2-b01d-7a150f77f4d4"
      },
      "outputs": [
        {
          "output_type": "stream",
          "name": "stdout",
          "text": [
            "Succesfully Completed Imports\n"
          ]
        }
      ],
      "source": [
        "# Importing necessary libraries for pre-trained model\n",
        "\n",
        "import tensorflow as tf\n",
        "from tensorflow.keras import layers, models\n",
        "from tensorflow.keras.applications import MobileNetV2\n",
        "import os\n",
        "\n",
        "print(\"Succesfully Completed Imports\")"
      ]
    },
    {
      "cell_type": "code",
      "execution_count": 19,
      "metadata": {
        "id": "eAbfw7feA9DM"
      },
      "outputs": [],
      "source": [
        "# Setting up the parameters\n",
        "\n",
        "batch_size = 32\n",
        "img_height = 180\n",
        "img_width = 180\n",
        "epochs = 35"
      ]
    },
    {
      "cell_type": "code",
      "execution_count": 20,
      "metadata": {
        "id": "EbFgS4OrBjCB",
        "colab": {
          "base_uri": "https://localhost:8080/"
        },
        "outputId": "aaedb7bb-f3b0-4523-8d05-b985287e0881"
      },
      "outputs": [
        {
          "output_type": "stream",
          "name": "stdout",
          "text": [
            "Contents of boat data(test)) ['DBinfo.txt', 'VigilidelFuoco', 'VaporettoACTV', 'Water', 'Topa', 'Raccoltarifiuti', 'Sanpierota', 'Sandoloaremi', 'Mototopo', 'Patanella', 'Polizia', 'MotoscafoACTV', 'Motopontonerettangolare', 'Lanciamaggioredi10mMarrone', 'Lanciamaggioredi10mBianca', 'Motobarca', 'Lanciafino10mMarrone', 'Lanciafino10mBianca', 'Gondola', 'Lanciafino10m', 'Caorlina', 'Barchino', 'Alilaguna', 'Cacciapesca', 'Ambulanza']\n"
          ]
        }
      ],
      "source": [
        "# Loading the dataset\n",
        "\n",
        "data_dir = '/content/drive/MyDrive/boat_data/test'\n",
        "\n",
        "print(\"Contents of boat data(test))\", os.listdir(data_dir))"
      ]
    },
    {
      "cell_type": "code",
      "execution_count": 21,
      "metadata": {
        "id": "WgyHY7mNBvwu",
        "colab": {
          "base_uri": "https://localhost:8080/"
        },
        "outputId": "91ad2897-831a-48a8-9f28-0eb1afcb90a1"
      },
      "outputs": [
        {
          "output_type": "stream",
          "name": "stdout",
          "text": [
            "Found 4774 files belonging to 24 classes.\n",
            "Using 3820 files for training.\n"
          ]
        }
      ],
      "source": [
        "train_ds = tf.keras.utils.image_dataset_from_directory(\n",
        "    data_dir,\n",
        "    validation_split = 0.2,\n",
        "    subset = 'training',\n",
        "    seed = 123,\n",
        "    image_size = (img_height, img_width),\n",
        "    batch_size = batch_size\n",
        ")"
      ]
    },
    {
      "cell_type": "code",
      "execution_count": 22,
      "metadata": {
        "colab": {
          "base_uri": "https://localhost:8080/"
        },
        "id": "xiz662aHDbVJ",
        "outputId": "ea22ac68-7cf5-4e68-eca3-5c196ae52c82"
      },
      "outputs": [
        {
          "output_type": "stream",
          "name": "stdout",
          "text": [
            "Found 4774 files belonging to 24 classes.\n",
            "Using 954 files for validation.\n"
          ]
        }
      ],
      "source": [
        "val_ds = tf.keras.utils.image_dataset_from_directory(\n",
        "    data_dir,\n",
        "    validation_split = 0.2,\n",
        "    subset = 'validation',\n",
        "    seed = 123,\n",
        "    image_size = (img_height, img_width),\n",
        "    batch_size = batch_size\n",
        ")"
      ]
    },
    {
      "cell_type": "code",
      "execution_count": 23,
      "metadata": {
        "id": "vGSA-IoiDltd",
        "colab": {
          "base_uri": "https://localhost:8080/"
        },
        "outputId": "854193c6-1ba6-482f-9413-ccbb77de38b8"
      },
      "outputs": [
        {
          "output_type": "stream",
          "name": "stdout",
          "text": [
            "Number of classes: 24\n",
            "Detected classes: ['Alilaguna', 'Ambulanza', 'Barchino', 'Cacciapesca', 'Caorlina', 'Gondola', 'Lanciafino10m', 'Lanciafino10mBianca', 'Lanciafino10mMarrone', 'Lanciamaggioredi10mBianca', 'Lanciamaggioredi10mMarrone', 'Motobarca', 'Motopontonerettangolare', 'MotoscafoACTV', 'Mototopo', 'Patanella', 'Polizia', 'Raccoltarifiuti', 'Sandoloaremi', 'Sanpierota', 'Topa', 'VaporettoACTV', 'VigilidelFuoco', 'Water']\n"
          ]
        }
      ],
      "source": [
        "class_names = train_ds.class_names\n",
        "num_classes = len(class_names)\n",
        "print(\"Number of classes:\", num_classes)\n",
        "print(\"Detected classes:\", class_names)"
      ]
    },
    {
      "cell_type": "code",
      "execution_count": 24,
      "metadata": {
        "id": "DsihNp2UDtgR"
      },
      "outputs": [],
      "source": [
        "# Preprocessing for MobileNetV2\n",
        "\n",
        "preprocess_input = tf.keras.applications.mobilenet_v2.preprocess_input"
      ]
    },
    {
      "cell_type": "code",
      "execution_count": 25,
      "metadata": {
        "id": "npN85zK1D5Hy",
        "colab": {
          "base_uri": "https://localhost:8080/"
        },
        "outputId": "a190a7ab-93c2-401f-a7bb-a4630119c370"
      },
      "outputs": [
        {
          "output_type": "stream",
          "name": "stderr",
          "text": [
            "/tmp/ipython-input-190242377.py:3: UserWarning: `input_shape` is undefined or non-square, or `rows` is not in [96, 128, 160, 192, 224]. Weights for input shape (224, 224) will be loaded as the default.\n",
            "  base_model = MobileNetV2(input_shape = (img_height, img_width, 3),\n"
          ]
        },
        {
          "output_type": "stream",
          "name": "stdout",
          "text": [
            "Downloading data from https://storage.googleapis.com/tensorflow/keras-applications/mobilenet_v2/mobilenet_v2_weights_tf_dim_ordering_tf_kernels_1.0_224_no_top.h5\n",
            "\u001b[1m9406464/9406464\u001b[0m \u001b[32m━━━━━━━━━━━━━━━━━━━━\u001b[0m\u001b[37m\u001b[0m \u001b[1m1s\u001b[0m 0us/step\n"
          ]
        }
      ],
      "source": [
        "# Building the base model\n",
        "\n",
        "base_model = MobileNetV2(input_shape = (img_height, img_width, 3),\n",
        "                         include_top = False,\n",
        "                         weights = 'imagenet')\n",
        "\n",
        "base_model.trainable = False"
      ]
    },
    {
      "cell_type": "code",
      "execution_count": 30,
      "metadata": {
        "id": "RaopRkdKEeAg"
      },
      "outputs": [],
      "source": [
        "# Building the new model\n",
        "\n",
        "model = models.Sequential([\n",
        "    layers.Input(shape = (img_height, img_width, 3)),\n",
        "    layers.Rescaling(1./127.5, offset = -1),\n",
        "\n",
        "    base_model,\n",
        "    layers.GlobalAveragePooling2D(),\n",
        "    layers.Dropout(0.3),\n",
        "    layers.Dense(num_classes, activation = 'softmax')\n",
        "])"
      ]
    },
    {
      "cell_type": "code",
      "execution_count": 31,
      "metadata": {
        "id": "eew5Mo9uF0w8"
      },
      "outputs": [],
      "source": [
        "# Model compilation\n",
        "\n",
        "model.compile(optimizer = tf.keras.optimizers.Adam(learning_rate = 0.001),\n",
        "              loss = tf.keras.losses.SparseCategoricalCrossentropy(from_logits=False),\n",
        "              metrics = ['accuracy'])"
      ]
    },
    {
      "cell_type": "code",
      "execution_count": 32,
      "metadata": {
        "id": "G7iACAN2GWux",
        "colab": {
          "base_uri": "https://localhost:8080/"
        },
        "outputId": "f6a9d385-5aa3-43ae-ca1f-26ac9f2da263"
      },
      "outputs": [
        {
          "output_type": "stream",
          "name": "stdout",
          "text": [
            "Epoch 1/35\n",
            "\u001b[1m120/120\u001b[0m \u001b[32m━━━━━━━━━━━━━━━━━━━━\u001b[0m\u001b[37m\u001b[0m \u001b[1m175s\u001b[0m 1s/step - accuracy: 0.5439 - loss: 1.7428 - val_accuracy: 0.8124 - val_loss: 0.6115\n",
            "Epoch 2/35\n",
            "\u001b[1m120/120\u001b[0m \u001b[32m━━━━━━━━━━━━━━━━━━━━\u001b[0m\u001b[37m\u001b[0m \u001b[1m161s\u001b[0m 1s/step - accuracy: 0.8184 - loss: 0.6136 - val_accuracy: 0.8627 - val_loss: 0.4664\n",
            "Epoch 3/35\n",
            "\u001b[1m120/120\u001b[0m \u001b[32m━━━━━━━━━━━━━━━━━━━━\u001b[0m\u001b[37m\u001b[0m \u001b[1m170s\u001b[0m 1s/step - accuracy: 0.8553 - loss: 0.4662 - val_accuracy: 0.8742 - val_loss: 0.4126\n",
            "Epoch 4/35\n",
            "\u001b[1m120/120\u001b[0m \u001b[32m━━━━━━━━━━━━━━━━━━━━\u001b[0m\u001b[37m\u001b[0m \u001b[1m184s\u001b[0m 2s/step - accuracy: 0.8825 - loss: 0.3898 - val_accuracy: 0.8721 - val_loss: 0.3968\n",
            "Epoch 5/35\n",
            "\u001b[1m120/120\u001b[0m \u001b[32m━━━━━━━━━━━━━━━━━━━━\u001b[0m\u001b[37m\u001b[0m \u001b[1m163s\u001b[0m 1s/step - accuracy: 0.8903 - loss: 0.3417 - val_accuracy: 0.8868 - val_loss: 0.3745\n",
            "Epoch 6/35\n",
            "\u001b[1m120/120\u001b[0m \u001b[32m━━━━━━━━━━━━━━━━━━━━\u001b[0m\u001b[37m\u001b[0m \u001b[1m169s\u001b[0m 1s/step - accuracy: 0.9036 - loss: 0.3009 - val_accuracy: 0.8899 - val_loss: 0.3618\n",
            "Epoch 7/35\n",
            "\u001b[1m120/120\u001b[0m \u001b[32m━━━━━━━━━━━━━━━━━━━━\u001b[0m\u001b[37m\u001b[0m \u001b[1m161s\u001b[0m 1s/step - accuracy: 0.9228 - loss: 0.2511 - val_accuracy: 0.8962 - val_loss: 0.3424\n",
            "Epoch 8/35\n",
            "\u001b[1m120/120\u001b[0m \u001b[32m━━━━━━━━━━━━━━━━━━━━\u001b[0m\u001b[37m\u001b[0m \u001b[1m161s\u001b[0m 1s/step - accuracy: 0.9230 - loss: 0.2446 - val_accuracy: 0.9004 - val_loss: 0.3443\n",
            "Epoch 9/35\n",
            "\u001b[1m120/120\u001b[0m \u001b[32m━━━━━━━━━━━━━━━━━━━━\u001b[0m\u001b[37m\u001b[0m \u001b[1m206s\u001b[0m 1s/step - accuracy: 0.9254 - loss: 0.2234 - val_accuracy: 0.8931 - val_loss: 0.3640\n",
            "Epoch 10/35\n",
            "\u001b[1m120/120\u001b[0m \u001b[32m━━━━━━━━━━━━━━━━━━━━\u001b[0m\u001b[37m\u001b[0m \u001b[1m158s\u001b[0m 1s/step - accuracy: 0.9314 - loss: 0.2176 - val_accuracy: 0.8941 - val_loss: 0.3480\n",
            "Epoch 11/35\n",
            "\u001b[1m120/120\u001b[0m \u001b[32m━━━━━━━━━━━━━━━━━━━━\u001b[0m\u001b[37m\u001b[0m \u001b[1m172s\u001b[0m 1s/step - accuracy: 0.9330 - loss: 0.1971 - val_accuracy: 0.8962 - val_loss: 0.3363\n",
            "Epoch 12/35\n",
            "\u001b[1m120/120\u001b[0m \u001b[32m━━━━━━━━━━━━━━━━━━━━\u001b[0m\u001b[37m\u001b[0m \u001b[1m188s\u001b[0m 1s/step - accuracy: 0.9490 - loss: 0.1754 - val_accuracy: 0.9036 - val_loss: 0.3269\n",
            "Epoch 13/35\n",
            "\u001b[1m120/120\u001b[0m \u001b[32m━━━━━━━━━━━━━━━━━━━━\u001b[0m\u001b[37m\u001b[0m \u001b[1m159s\u001b[0m 1s/step - accuracy: 0.9440 - loss: 0.1717 - val_accuracy: 0.9046 - val_loss: 0.3418\n",
            "Epoch 14/35\n",
            "\u001b[1m120/120\u001b[0m \u001b[32m━━━━━━━━━━━━━━━━━━━━\u001b[0m\u001b[37m\u001b[0m \u001b[1m211s\u001b[0m 1s/step - accuracy: 0.9462 - loss: 0.1623 - val_accuracy: 0.8952 - val_loss: 0.3244\n",
            "Epoch 15/35\n",
            "\u001b[1m120/120\u001b[0m \u001b[32m━━━━━━━━━━━━━━━━━━━━\u001b[0m\u001b[37m\u001b[0m \u001b[1m158s\u001b[0m 1s/step - accuracy: 0.9521 - loss: 0.1541 - val_accuracy: 0.8994 - val_loss: 0.3453\n",
            "Epoch 16/35\n",
            "\u001b[1m120/120\u001b[0m \u001b[32m━━━━━━━━━━━━━━━━━━━━\u001b[0m\u001b[37m\u001b[0m \u001b[1m159s\u001b[0m 1s/step - accuracy: 0.9473 - loss: 0.1554 - val_accuracy: 0.8994 - val_loss: 0.3348\n",
            "Epoch 17/35\n",
            "\u001b[1m120/120\u001b[0m \u001b[32m━━━━━━━━━━━━━━━━━━━━\u001b[0m\u001b[37m\u001b[0m \u001b[1m168s\u001b[0m 1s/step - accuracy: 0.9525 - loss: 0.1396 - val_accuracy: 0.8983 - val_loss: 0.3483\n",
            "Epoch 18/35\n",
            "\u001b[1m120/120\u001b[0m \u001b[32m━━━━━━━━━━━━━━━━━━━━\u001b[0m\u001b[37m\u001b[0m \u001b[1m192s\u001b[0m 1s/step - accuracy: 0.9610 - loss: 0.1249 - val_accuracy: 0.8962 - val_loss: 0.3544\n",
            "Epoch 19/35\n",
            "\u001b[1m120/120\u001b[0m \u001b[32m━━━━━━━━━━━━━━━━━━━━\u001b[0m\u001b[37m\u001b[0m \u001b[1m205s\u001b[0m 1s/step - accuracy: 0.9598 - loss: 0.1294 - val_accuracy: 0.9078 - val_loss: 0.3408\n",
            "Epoch 20/35\n",
            "\u001b[1m120/120\u001b[0m \u001b[32m━━━━━━━━━━━━━━━━━━━━\u001b[0m\u001b[37m\u001b[0m \u001b[1m208s\u001b[0m 1s/step - accuracy: 0.9600 - loss: 0.1160 - val_accuracy: 0.9088 - val_loss: 0.3242\n",
            "Epoch 21/35\n",
            "\u001b[1m120/120\u001b[0m \u001b[32m━━━━━━━━━━━━━━━━━━━━\u001b[0m\u001b[37m\u001b[0m \u001b[1m163s\u001b[0m 1s/step - accuracy: 0.9609 - loss: 0.1190 - val_accuracy: 0.9025 - val_loss: 0.3399\n",
            "Epoch 22/35\n",
            "\u001b[1m120/120\u001b[0m \u001b[32m━━━━━━━━━━━━━━━━━━━━\u001b[0m\u001b[37m\u001b[0m \u001b[1m199s\u001b[0m 1s/step - accuracy: 0.9620 - loss: 0.1139 - val_accuracy: 0.8973 - val_loss: 0.3403\n",
            "Epoch 23/35\n",
            "\u001b[1m120/120\u001b[0m \u001b[32m━━━━━━━━━━━━━━━━━━━━\u001b[0m\u001b[37m\u001b[0m \u001b[1m164s\u001b[0m 1s/step - accuracy: 0.9654 - loss: 0.1086 - val_accuracy: 0.9078 - val_loss: 0.3444\n",
            "Epoch 24/35\n",
            "\u001b[1m120/120\u001b[0m \u001b[32m━━━━━━━━━━━━━━━━━━━━\u001b[0m\u001b[37m\u001b[0m \u001b[1m201s\u001b[0m 1s/step - accuracy: 0.9661 - loss: 0.1033 - val_accuracy: 0.9025 - val_loss: 0.3570\n",
            "Epoch 25/35\n",
            "\u001b[1m120/120\u001b[0m \u001b[32m━━━━━━━━━━━━━━━━━━━━\u001b[0m\u001b[37m\u001b[0m \u001b[1m198s\u001b[0m 1s/step - accuracy: 0.9651 - loss: 0.1001 - val_accuracy: 0.9015 - val_loss: 0.3462\n",
            "Epoch 26/35\n",
            "\u001b[1m120/120\u001b[0m \u001b[32m━━━━━━━━━━━━━━━━━━━━\u001b[0m\u001b[37m\u001b[0m \u001b[1m210s\u001b[0m 1s/step - accuracy: 0.9580 - loss: 0.1107 - val_accuracy: 0.9036 - val_loss: 0.3468\n",
            "Epoch 27/35\n",
            "\u001b[1m120/120\u001b[0m \u001b[32m━━━━━━━━━━━━━━━━━━━━\u001b[0m\u001b[37m\u001b[0m \u001b[1m205s\u001b[0m 1s/step - accuracy: 0.9694 - loss: 0.0938 - val_accuracy: 0.9025 - val_loss: 0.3492\n",
            "Epoch 28/35\n",
            "\u001b[1m120/120\u001b[0m \u001b[32m━━━━━━━━━━━━━━━━━━━━\u001b[0m\u001b[37m\u001b[0m \u001b[1m160s\u001b[0m 1s/step - accuracy: 0.9731 - loss: 0.0938 - val_accuracy: 0.9046 - val_loss: 0.3472\n",
            "Epoch 29/35\n",
            "\u001b[1m120/120\u001b[0m \u001b[32m━━━━━━━━━━━━━━━━━━━━\u001b[0m\u001b[37m\u001b[0m \u001b[1m166s\u001b[0m 1s/step - accuracy: 0.9646 - loss: 0.0986 - val_accuracy: 0.9088 - val_loss: 0.3665\n",
            "Epoch 30/35\n",
            "\u001b[1m120/120\u001b[0m \u001b[32m━━━━━━━━━━━━━━━━━━━━\u001b[0m\u001b[37m\u001b[0m \u001b[1m158s\u001b[0m 1s/step - accuracy: 0.9663 - loss: 0.0957 - val_accuracy: 0.9036 - val_loss: 0.3609\n",
            "Epoch 31/35\n",
            "\u001b[1m120/120\u001b[0m \u001b[32m━━━━━━━━━━━━━━━━━━━━\u001b[0m\u001b[37m\u001b[0m \u001b[1m159s\u001b[0m 1s/step - accuracy: 0.9669 - loss: 0.0999 - val_accuracy: 0.9078 - val_loss: 0.3474\n",
            "Epoch 32/35\n",
            "\u001b[1m120/120\u001b[0m \u001b[32m━━━━━━━━━━━━━━━━━━━━\u001b[0m\u001b[37m\u001b[0m \u001b[1m170s\u001b[0m 1s/step - accuracy: 0.9722 - loss: 0.0870 - val_accuracy: 0.8994 - val_loss: 0.3655\n",
            "Epoch 33/35\n",
            "\u001b[1m120/120\u001b[0m \u001b[32m━━━━━━━━━━━━━━━━━━━━\u001b[0m\u001b[37m\u001b[0m \u001b[1m189s\u001b[0m 1s/step - accuracy: 0.9763 - loss: 0.0752 - val_accuracy: 0.9015 - val_loss: 0.3798\n",
            "Epoch 34/35\n",
            "\u001b[1m120/120\u001b[0m \u001b[32m━━━━━━━━━━━━━━━━━━━━\u001b[0m\u001b[37m\u001b[0m \u001b[1m158s\u001b[0m 1s/step - accuracy: 0.9727 - loss: 0.0818 - val_accuracy: 0.9088 - val_loss: 0.3673\n",
            "Epoch 35/35\n",
            "\u001b[1m120/120\u001b[0m \u001b[32m━━━━━━━━━━━━━━━━━━━━\u001b[0m\u001b[37m\u001b[0m \u001b[1m213s\u001b[0m 1s/step - accuracy: 0.9748 - loss: 0.0860 - val_accuracy: 0.9025 - val_loss: 0.3632\n"
          ]
        }
      ],
      "source": [
        "# Finally, train model\n",
        "\n",
        "history = model.fit(\n",
        "    train_ds,\n",
        "    validation_data = val_ds,\n",
        "    epochs = epochs\n",
        ")"
      ]
    },
    {
      "cell_type": "code",
      "source": [
        "# Visualizing our findings\n",
        "\n",
        "import matplotlib.pyplot as plt\n",
        "\n",
        "acc = history.history['accuracy']\n",
        "val_acc = history.history['val_accuracy']\n",
        "\n",
        "loss = history.history['loss']\n",
        "val_loss = history.history['val_loss']\n",
        "\n",
        "# epochs_range = range(epochs)\n",
        "\n",
        "plt.figure(figsize=(8, 8))\n",
        "plt.subplot(1, 2, 1)\n",
        "plt\n",
        "\n",
        "plt.figure(figsize=(8, 8))\n",
        "plt.subplot(1, 2, 1)\n",
        "plt.plot(acc, label='Training Accuracy')\n",
        "plt.plot(val_acc, label='Validation Accuracy')\n",
        "plt.legend()\n",
        "plt.title('Training and Validation Accuracy Pre-trained model')\n",
        "\n",
        "plt.subplot(1, 2, 2)\n",
        "plt.plot(loss, label = 'Training Loss')\n",
        "plt.plot(val_loss, label = 'Validation Loss')\n",
        "plt.legend()\n",
        "plt.title('Training and Validation Loss Pre-trained model')"
      ],
      "metadata": {
        "colab": {
          "base_uri": "https://localhost:8080/",
          "height": 1000
        },
        "id": "KUmx4wKaCZgn",
        "outputId": "8182f0fb-5467-4e2c-89cf-08c8d8545c40"
      },
      "execution_count": 34,
      "outputs": [
        {
          "output_type": "execute_result",
          "data": {
            "text/plain": [
              "Text(0.5, 1.0, 'Training and Validation Loss Pre-trained model')"
            ]
          },
          "metadata": {},
          "execution_count": 34
        },
        {
          "output_type": "display_data",
          "data": {
            "text/plain": [
              "<Figure size 800x800 with 1 Axes>"
            ],
            "image/png": "[encoded data removed]"
          },
          "metadata": {}
        },
        {
          "output_type": "display_data",
          "data": {
            "text/plain": [
              "<Figure size 800x800 with 2 Axes>"
            ],
            "image/png": "[encoded data removed]"
          },
          "metadata": {}
        }
      ]
    },
    {
      "cell_type": "markdown",
      "source": [
        "### 🧠 Model Performance Summary (Pre-trained Model)\n",
        "\n",
        "The pre-trained model learned faster and gave stronger results, with training accuracy near 98% and validation around 90-91%. It picked up patterns quickly but began to memorize training data after about 20 epochs. Training loss kept dropping while validation loss flattened, showing mild overfitting. The model is solid but a bit too confident. EarlyStopping, slightly higher dropout, or L2 regularization can help it stay fair, balanced, and ready for real world data."
      ],
      "metadata": {
        "id": "imTOjs18Gsos"
      }
    },
    {
      "cell_type": "code",
      "source": [
        "model.save('my_model.keras')\n",
        "print(\"Model saved successfully!\")"
      ],
      "metadata": {
        "colab": {
          "base_uri": "https://localhost:8080/"
        },
        "id": "xx8b6zgMGOb9",
        "outputId": "2d629208-6df9-4e9d-aee4-632fa9a4350a"
      },
      "execution_count": 35,
      "outputs": [
        {
          "output_type": "stream",
          "name": "stdout",
          "text": [
            "Model saved successfully!\n"
          ]
        }
      ]
    },
    {
      "cell_type": "code",
      "source": [],
      "metadata": {
        "id": "10cFEPeZJZxo"
      },
      "execution_count": null,
      "outputs": []
    }
  ],
  "metadata": {
    "colab": {
      "provenance": []
    },
    "kernelspec": {
      "display_name": "Python 3",
      "name": "python3"
    },
    "language_info": {
      "name": "python"
    }
  },
  "nbformat": 4,
  "nbformat_minor": 0
}